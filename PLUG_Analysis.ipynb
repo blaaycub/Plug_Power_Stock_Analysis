{
 "cells": [
  {
   "cell_type": "markdown",
   "metadata": {},
   "source": [
    "# Plug Power Stock Analysis"
   ]
  },
  {
   "cell_type": "markdown",
   "metadata": {},
   "source": [
    "Using financial statistics and NumPy, this notebook will analyze Plug Power"
   ]
  },
  {
   "cell_type": "markdown",
   "metadata": {},
   "source": [
    "1. Import the numpy module as np and define percentage function"
   ]
  },
  {
   "cell_type": "code",
   "execution_count": 1,
   "metadata": {},
   "outputs": [],
   "source": [
    "import numpy as np"
   ]
  },
  {
   "cell_type": "code",
   "execution_count": 2,
   "metadata": {},
   "outputs": [],
   "source": [
    "def display_as_percentage(val):\n",
    "    return '{:.2f}%'.format(val*100)"
   ]
  },
  {
   "cell_type": "markdown",
   "metadata": {},
   "source": [
    "2. Load Adjusted closings for PLUG"
   ]
  },
  {
   "cell_type": "code",
   "execution_count": 5,
   "metadata": {},
   "outputs": [
    {
     "name": "stdout",
     "output_type": "stream",
     "text": [
      "[ 4.27      4.18      4.49      4.52      4.42      4.22      4.33\n",
      "  4.3       4.4       4.5       4.44      4.42      4.18      3.92\n",
      "  4.09      4.17      4.17      4.37      4.55      4.31      4.28\n",
      "  4.11      4.06      4.08      4.17      4.17      4.22      4.17\n",
      "  4.11      4.22      4.33      4.25      4.21      4.28      4.15\n",
      "  4.17      5.        4.88      5.28      5.1       5.66      4.75\n",
      "  5.06      5.21      5.45      5.29      5.39      5.48      5.57\n",
      "  6.43      7.57      7.35      6.83      7.99      8.21      8.87\n",
      "  9.1       9.98      9.34      9.5       8.95      9.3       8.31\n",
      "  8.65      9.04      9.06      8.99      8.6       9.08      8.95\n",
      "  8.53      8.52      8.35      8.06      8.19      7.97      7.71\n",
      "  9.16      9.13      9.33     10.73     11.28     12.04     11.31\n",
      " 10.63     11.36     11.4      12.2      12.77     13.65     13.67\n",
      " 12.93     12.34     12.85     13.05     12.99     13.07     12.98\n",
      " 14.13     13.14     11.55     11.76     11.73     12.13     12.12\n",
      " 11.71     12.24     12.53     12.94     12.84     13.56     13.36\n",
      " 12.93     12.08     11.24     11.65     13.2      13.16     13.41\n",
      " 14.       14.14     15.74     16.23     18.23     17.879999 18.43\n",
      " 17.639999 17.1      17.299999 17.030001 16.27     16.389999 16.290001\n",
      " 14.86     14.96     15.03     14.46     14.79     14.8      14.81\n",
      " 14.       15.47     16.950001 16.610001 18.84     18.860001 20.309999\n",
      " 20.01     23.       23.450001 23.43     25.       22.98     23.219999\n",
      " 23.790001 24.360001 26.870001 26.719999 26.16     26.24     26.389999\n",
      " 24.469999 24.07     23.85     24.85     24.75     28.74     26.74\n",
      " 27.190001 26.77     25.700001 28.469999 28.459999 30.57     31.629999\n",
      " 32.369999 35.689999 36.139999 35.580002 33.57     32.459999 34.189999\n",
      " 33.91     32.169998 32.549999 35.       47.290001 53.779999 53.970001\n",
      " 66.019997 69.5      66.540001 60.139999 66.470001 62.5      63.689999\n",
      " 66.870003 65.720001 73.18     64.419998 65.279999 63.169998 63.849998\n",
      " 64.25     67.379997 67.669998 65.769997 66.190002 67.480003 64.330002\n",
      " 63.990002 63.189999 59.       56.23     50.23     55.889999 48.599998\n",
      " 46.580002 50.16     43.34     48.380001 52.459999 48.779999 43.810001\n",
      " 40.02     39.299999 38.110001 42.32     42.830002 48.16     47.25\n",
      " 46.459999 42.68     39.330002 36.360001 38.279999 38.91     36.790001\n",
      " 33.200001 34.099998 34.029999 30.780001 34.040001 35.84     35.259998\n",
      " 33.439999 34.669998 31.959999 32.619999 32.299999 29.68     29.290001\n",
      " 28.434999]\n"
     ]
    }
   ],
   "source": [
    "adj_closings_plug = np.loadtxt('Plug.csv', skiprows=1, usecols=5, delimiter=',')\n",
    "print(adj_closings_plug)"
   ]
  },
  {
   "cell_type": "markdown",
   "metadata": {},
   "source": [
    "# Simple Rate of Return Function"
   ]
  },
  {
   "cell_type": "markdown",
   "metadata": {},
   "source": [
    "3. To calculate the daily rate of return for the SBRA stock, we need the daily adjusted closing price. The formula we are using for the daily rate of return is out[n] = a[n+1] - a[n]"
   ]
  },
  {
   "cell_type": "code",
   "execution_count": 8,
   "metadata": {},
   "outputs": [],
   "source": [
    "def simple_rate_of_return(adj_closings):\n",
    "    daily_simple_ror = np.diff(adj_closings)/adj_closings[:-1]\n",
    "    return daily_simple_ror"
   ]
  },
  {
   "cell_type": "markdown",
   "metadata": {},
   "source": [
    "# Calculate Daily Rate of Return for PLUG"
   ]
  },
  {
   "cell_type": "markdown",
   "metadata": {},
   "source": [
    "4. Call the function simple_rate_of_return with the arguments adj_closings_sbra. Then print the results."
   ]
  },
  {
   "cell_type": "code",
   "execution_count": 9,
   "metadata": {},
   "outputs": [
    {
     "name": "stdout",
     "output_type": "stream",
     "text": [
      "[-0.02107728  0.07416268  0.00668151 -0.02212389 -0.04524887  0.02606635\n",
      " -0.00692841  0.02325581  0.02272727 -0.01333333 -0.0045045  -0.05429864\n",
      " -0.06220096  0.04336735  0.0195599   0.          0.04796163  0.04118993\n",
      " -0.05274725 -0.00696056 -0.03971963 -0.01216545  0.00492611  0.02205882\n",
      "  0.          0.01199041 -0.01184834 -0.01438849  0.02676399  0.02606635\n",
      " -0.01847575 -0.00941176  0.01662708 -0.03037383  0.00481928  0.19904077\n",
      " -0.024       0.08196721 -0.03409091  0.10980392 -0.16077739  0.06526316\n",
      "  0.02964427  0.04606526 -0.0293578   0.01890359  0.01669759  0.01642336\n",
      "  0.15439856  0.17729393 -0.02906209 -0.0707483   0.16983895  0.02753442\n",
      "  0.08038977  0.0259301   0.0967033  -0.06412826  0.01713062 -0.05789474\n",
      "  0.03910615 -0.10645161  0.04091456  0.04508671  0.00221239 -0.00772627\n",
      " -0.04338154  0.05581395 -0.01431718 -0.04692737 -0.00117233 -0.01995305\n",
      " -0.03473054  0.01612903 -0.02686203 -0.03262233  0.18806744 -0.00327511\n",
      "  0.02190581  0.15005359  0.05125815  0.06737589 -0.06063123 -0.06012378\n",
      "  0.06867357  0.00352113  0.07017544  0.04672131  0.06891151  0.0014652\n",
      " -0.05413314 -0.04563032  0.04132901  0.0155642  -0.0045977   0.00615858\n",
      " -0.006886    0.08859784 -0.07006369 -0.12100457  0.01818182 -0.00255102\n",
      "  0.0341006  -0.0008244  -0.03382838  0.04526046  0.02369281  0.03272147\n",
      " -0.00772798  0.05607477 -0.01474926 -0.03218563 -0.06573859 -0.06953642\n",
      "  0.03647687  0.13304721 -0.0030303   0.01899696  0.04399702  0.01\n",
      "  0.11315417  0.03113088  0.12322859 -0.01919918  0.03076068 -0.04286495\n",
      " -0.03061219  0.01169585 -0.01560682 -0.04462718  0.00737548 -0.00610116\n",
      " -0.08778397  0.00672948  0.00467914 -0.03792415  0.02282158  0.00067613\n",
      "  0.00067568 -0.05469278  0.105       0.0956691  -0.020059    0.1342564\n",
      "  0.00106162  0.07688218 -0.014771    0.14942529  0.01956526 -0.00085292\n",
      "  0.06700811 -0.0808      0.01044382  0.02454789  0.02395965  0.10303776\n",
      " -0.00558251 -0.02095805  0.0030581   0.00571643 -0.07275483 -0.01634651\n",
      " -0.00914001  0.04192872 -0.00402414  0.16121212 -0.06958942  0.01682876\n",
      " -0.01544689 -0.03997008  0.10778202 -0.00035125  0.07413918  0.03467448\n",
      "  0.02339551  0.10256411  0.01260857 -0.01549521 -0.05649246 -0.03306527\n",
      "  0.05329637 -0.0081895  -0.05131236  0.01181228  0.07526885  0.35114289\n",
      "  0.13723827  0.00353295  0.22327211  0.05271135 -0.04258991 -0.09618278\n",
      "  0.10525444 -0.05972621  0.01903998  0.04992941 -0.01719758  0.11351185\n",
      " -0.11970486  0.01334991 -0.03232232  0.0107646   0.00626471  0.04871591\n",
      "  0.00430396 -0.02807745  0.00638597  0.01948936 -0.04668051 -0.00528525\n",
      " -0.012502   -0.06630795 -0.04694915 -0.10670461  0.11268164 -0.1304348\n",
      " -0.04156371  0.07685697 -0.13596491  0.11628982  0.08433233 -0.07014869\n",
      " -0.10188598 -0.08650995 -0.01799103 -0.03027985  0.11046966  0.01205109\n",
      "  0.12444543 -0.01889535 -0.0167196  -0.08136029 -0.07849105 -0.0755149\n",
      "  0.05280522  0.01645771 -0.05448468 -0.09758086  0.02710834 -0.00205276\n",
      " -0.09550391  0.10591293  0.05287893 -0.01618309 -0.05161654  0.03678227\n",
      " -0.07816554  0.02065081 -0.00980993 -0.08111452 -0.01314013 -0.02919092]\n"
     ]
    }
   ],
   "source": [
    "daily_simple_returns_plug = simple_rate_of_return(adj_closings_plug)\n",
    "print(daily_simple_returns_plug)"
   ]
  },
  {
   "cell_type": "markdown",
   "metadata": {},
   "source": [
    "## Calculate Average Daily Return for PLUG"
   ]
  },
  {
   "cell_type": "markdown",
   "metadata": {},
   "source": [
    "5. Use np.mean() with the argument daily_simple_returns_plug to calculate the average daily return for PLUG. Then set it to the variable name average_daily_simple_return_plug"
   ]
  },
  {
   "cell_type": "code",
   "execution_count": 10,
   "metadata": {},
   "outputs": [
    {
     "name": "stdout",
     "output_type": "stream",
     "text": [
      "0.97%\n"
     ]
    }
   ],
   "source": [
    "average_daily_simple_return_plug = np.mean(daily_simple_returns_plug)\n",
    "print(display_as_percentage(average_daily_simple_return_plug))"
   ]
  },
  {
   "cell_type": "markdown",
   "metadata": {},
   "source": [
    "## Daily Log Returns Function"
   ]
  },
  {
   "cell_type": "markdown",
   "metadata": {},
   "source": [
    "6. Create a function that returns the daily rate of return\n",
    "\n",
    "    step 1. define a function named log_returns\n",
    "\n",
    "    step 2. create parameter for adj_closings\n",
    "\n",
    "    step 3. use np.log() to get the log of each adjusted closing price and set \n",
    "    it to the variable log_adj_closings\n",
    "\n",
    "    step 4. use np.diff() to get the diff of each daily log adjusted closing \n",
    "    price and set it to the variable daily_log_returns\n",
    "\n",
    "    step 5. return daily_log_returns"
   ]
  },
  {
   "cell_type": "code",
   "execution_count": 11,
   "metadata": {},
   "outputs": [],
   "source": [
    "def log_returns(adj_closings):\n",
    "    log_adj_closings = np.log(adj_closings)\n",
    "    daily_log_returns = np.diff(log_adj_closings)\n",
    "    return daily_log_returns"
   ]
  },
  {
   "cell_type": "markdown",
   "metadata": {},
   "source": [
    "## Calculate Daily Log Returns for PLUG"
   ]
  },
  {
   "cell_type": "markdown",
   "metadata": {},
   "source": [
    "7. Call the function log_returns with the arguments adj_closings_plug. Set it to the variable daily_log_returns_plug. Then print the results."
   ]
  },
  {
   "cell_type": "code",
   "execution_count": 12,
   "metadata": {},
   "outputs": [
    {
     "name": "stdout",
     "output_type": "stream",
     "text": [
      "[-0.02130258  0.07154146  0.00665929 -0.0223723  -0.04630457  0.02573241\n",
      " -0.00695252  0.02298952  0.02247286 -0.01342302 -0.00451468 -0.05582845\n",
      " -0.06421959  0.04245332  0.01937107  0.          0.04684697  0.04036422\n",
      " -0.05418933 -0.00698489 -0.04052998 -0.01224005  0.00491401  0.02181905\n",
      "  0.          0.01191909 -0.01191909 -0.01449301  0.0264121   0.02573241\n",
      " -0.01864856 -0.00945634  0.01649036 -0.03084468  0.0048077   0.18152188\n",
      " -0.02429269  0.07878088 -0.03468556  0.10418335 -0.17527927  0.06322187\n",
      "  0.02921337  0.04503575 -0.02979736  0.01872714  0.01655972  0.01628995\n",
      "  0.14357948  0.16321853 -0.02949275 -0.07337564  0.15686609  0.02716216\n",
      "  0.07732187  0.02559962  0.09230868 -0.06627684  0.01698555 -0.05963827\n",
      "  0.03836087 -0.11255479  0.04009971  0.04409985  0.00220995 -0.00775627\n",
      " -0.04435065  0.05431199 -0.01442066 -0.04806417 -0.00117302 -0.0201548\n",
      " -0.03534798  0.01600034 -0.02722941 -0.03316631  0.17232799 -0.00328048\n",
      "  0.02166932  0.13980854  0.04998769  0.06520319 -0.06254715 -0.0620071\n",
      "  0.06641822  0.00351494  0.0678226   0.04566272  0.06664085  0.00146413\n",
      " -0.05565346 -0.04670417  0.04049779  0.01544432 -0.0046083   0.0061397\n",
      " -0.00690982  0.08489049 -0.07263918 -0.12897558  0.01801851 -0.00255428\n",
      "  0.03353206 -0.00082474 -0.0344138   0.0442661   0.02341649  0.03219752\n",
      " -0.00775799  0.05455898 -0.01485911 -0.03271498 -0.067999   -0.07207235\n",
      "  0.03582734  0.12491065 -0.0030349   0.01881877  0.04305663  0.00995033\n",
      "  0.10719758  0.03065614  0.11620721 -0.01938587  0.03029706 -0.04381078\n",
      " -0.03109053  0.01162798 -0.01572989 -0.04565363  0.00734841 -0.00611985\n",
      " -0.09187844  0.00670693  0.00466823 -0.03866199  0.02256506  0.0006759\n",
      "  0.00067545 -0.0562453   0.09984533  0.09136523 -0.02026291  0.12597729\n",
      "  0.00106106  0.07407    -0.01488118  0.13926207  0.01937632 -0.00085329\n",
      "  0.06485857 -0.08425155  0.01038966  0.02425143  0.02367712  0.09806798\n",
      " -0.00559815 -0.02118078  0.00305344  0.00570015 -0.07553728 -0.01648158\n",
      " -0.00918203  0.04107354 -0.00403226  0.14946439 -0.07212931  0.01668872\n",
      " -0.01556744 -0.04079083  0.10235984 -0.00035131  0.07151958  0.03408687\n",
      "  0.02312603  0.09763847  0.01252975 -0.01561652 -0.05815093 -0.03362428\n",
      "  0.05192464 -0.00822322 -0.05267568  0.01174306  0.07257072  0.30095082\n",
      "  0.12860275  0.00352672  0.20152933  0.05136907 -0.04352347 -0.10112812\n",
      "  0.10007557 -0.06158418  0.01886099  0.04872293 -0.01734717  0.10751885\n",
      " -0.12749805  0.01326158 -0.03285622  0.01070708  0.00624517  0.04756647\n",
      "  0.00429473 -0.02847916  0.00636566  0.01930188 -0.04780519 -0.00529926\n",
      " -0.01258081 -0.0686086  -0.04808702 -0.11283796  0.106773   -0.13976197\n",
      " -0.04245218  0.07404659 -0.1461419   0.11001053  0.08096443 -0.07273058\n",
      " -0.10745825 -0.0904828  -0.01815484 -0.03074775  0.10478305  0.01197905\n",
      "  0.11728996 -0.01907615 -0.01686095 -0.08486128 -0.08174279 -0.07851834\n",
      "  0.05145824  0.01632375 -0.05602519 -0.10267619  0.02674742 -0.00205487\n",
      " -0.1003773   0.10067117  0.05152826 -0.01631547 -0.05299636  0.03612194\n",
      " -0.08138961  0.02044048 -0.00985837 -0.08459378 -0.01322722 -0.02962545]\n"
     ]
    }
   ],
   "source": [
    "daily_log_returns_plug = log_returns(adj_closings_plug)\n",
    "print(daily_log_returns_plug)"
   ]
  },
  {
   "cell_type": "markdown",
   "metadata": {},
   "source": [
    "## Annualize Daily Log Return Function"
   ]
  },
  {
   "cell_type": "markdown",
   "metadata": {},
   "source": [
    "8. Create a function that returns the daily rate of return\n",
    "\n",
    "    step 1. define a function named `annualize_log_return`\n",
    "    \n",
    "    step 2. create parameter for  `daily_log_returns`\n",
    "    \n",
    "    step 3. use `np.mean()` with the argument `daily_log_returns` to calculate the average daily return. Then set it to the variable name `average_daily_log_returns`\n",
    "    \n",
    "    step 4. then multiply `average_daily_log_returns` by 250 and set it to the variable `annualized_log_return`\n",
    "    \n",
    "    step 5. return `annualized_log_return`"
   ]
  },
  {
   "cell_type": "code",
   "execution_count": 14,
   "metadata": {},
   "outputs": [],
   "source": [
    "def annualize_log_return(daily_log_return):\n",
    "    average_daily_log_returns = np.mean(daily_log_return)\n",
    "    annualized_log_return = average_daily_log_returns * 250\n",
    "    return annualized_log_return"
   ]
  },
  {
   "cell_type": "markdown",
   "metadata": {},
   "source": [
    "## Calculate Annualize Daily Log Return for PLUG"
   ]
  },
  {
   "cell_type": "markdown",
   "metadata": {},
   "source": [
    "9. Call the function annualize_log_return with the arguments daily_log_returns_plug. Set it to the variable annualized_log_return_plug. Then print the results."
   ]
  },
  {
   "cell_type": "code",
   "execution_count": 16,
   "metadata": {},
   "outputs": [
    {
     "name": "stdout",
     "output_type": "stream",
     "text": [
      "188.10%\n"
     ]
    }
   ],
   "source": [
    "annualized_log_return_plug = annualize_log_return(daily_log_returns_plug)\n",
    "print(display_as_percentage(annualized_log_return_plug))"
   ]
  },
  {
   "cell_type": "markdown",
   "metadata": {},
   "source": [
    "## Calculate Variance of Daily Log Return for PLUG"
   ]
  },
  {
   "cell_type": "markdown",
   "metadata": {},
   "source": [
    "10. Calculate the variance of the daily logarithmetic return for PLUG. Use the function `.var()` with the argument `log_daily_ror`. Set it to the variable `daily_varaince_plug`. Then print the results. "
   ]
  },
  {
   "cell_type": "code",
   "execution_count": 17,
   "metadata": {},
   "outputs": [
    {
     "name": "stdout",
     "output_type": "stream",
     "text": [
      "0.004165392736520093\n"
     ]
    }
   ],
   "source": [
    "daily_variance_plug = np.var(daily_log_returns_plug)\n",
    "print(daily_variance_plug)"
   ]
  },
  {
   "cell_type": "markdown",
   "metadata": {},
   "source": [
    "## Calculate the Daily Standard Deviation for PLUG"
   ]
  },
  {
   "cell_type": "markdown",
   "metadata": {},
   "source": [
    "11. Calculate the Standard Deviation of the daily logarithmetic return for PLUG. Use the function `.std()` with the argument `daily_log_returns_plug`. Set it to the variable `daily_sd_plug`. Then print the results. "
   ]
  },
  {
   "cell_type": "code",
   "execution_count": 18,
   "metadata": {},
   "outputs": [
    {
     "name": "stdout",
     "output_type": "stream",
     "text": [
      "0.0645398538619363\n"
     ]
    }
   ],
   "source": [
    "daily_sd_plug = np.std(daily_log_returns_plug)\n",
    "print(daily_sd_plug)"
   ]
  }
 ],
 "metadata": {
  "kernelspec": {
   "display_name": "Python 3",
   "language": "python",
   "name": "python3"
  },
  "language_info": {
   "codemirror_mode": {
    "name": "ipython",
    "version": 3
   },
   "file_extension": ".py",
   "mimetype": "text/x-python",
   "name": "python",
   "nbconvert_exporter": "python",
   "pygments_lexer": "ipython3",
   "version": "3.8.5"
  }
 },
 "nbformat": 4,
 "nbformat_minor": 4
}
